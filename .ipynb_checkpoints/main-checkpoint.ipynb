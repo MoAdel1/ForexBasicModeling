{
 "cells": [
  {
   "cell_type": "markdown",
   "metadata": {},
   "source": [
    "## Problem description\n",
    "Forex is the market for trading currency pairs, it is similar to the stock market, but only for a currency pair. In order to trade in the market a chart which contains the historic price and a set of technical indicators (features) is used by the trader to predict the future price. The type of the technical indicators used and the length of the inspection window is up to the trader himself and based on his previous experience. **The end goal is to build a machine learning model to predict the market movements.**\n",
    "![Forex Chart example](pics\\chart_example.png)\n",
    "\n",
    "## Target of this project \n",
    "- benchmark performance of **optimal** neural nets using Autodesigner\n",
    "- test and compare performance for different sets of features (technical indicators) and time-windows\n",
    "- come up with a proposal for the set of features to be used in next stage of modeling\n",
    "- have a baseline performance which is the minimum acceptance criteria moving forward"
   ]
  },
  {
   "cell_type": "code",
   "execution_count": 1,
   "metadata": {},
   "outputs": [],
   "source": [
    "# code imports\n",
    "import pandas as pd\n",
    "from forex.data.utils import fetch_data\n",
    "from forex.processing.utils import data_construct\n",
    "from matplotlib import pyplot as plt # (%matplotlib notebook) in case interactive graphs are needed "
   ]
  },
  {
   "cell_type": "markdown",
   "metadata": {},
   "source": [
    "Load the data for EUR/USD pair with the following configurations:\n",
    "- granularity = 5 minutes\n",
    "- count = 1000 candles\n",
    "\n",
    "[fetch_data](.\\forex\\data\\utils.py)"
   ]
  },
  {
   "cell_type": "code",
   "execution_count": 2,
   "metadata": {},
   "outputs": [],
   "source": [
    "data = fetch_data(granularity='M5', count=1000, instrument='EUR_USD', return_list=False)"
   ]
  },
  {
   "cell_type": "code",
   "execution_count": 3,
   "metadata": {},
   "outputs": [
    {
     "data": {
      "text/html": [
       "<div>\n",
       "<style scoped>\n",
       "    .dataframe tbody tr th:only-of-type {\n",
       "        vertical-align: middle;\n",
       "    }\n",
       "\n",
       "    .dataframe tbody tr th {\n",
       "        vertical-align: top;\n",
       "    }\n",
       "\n",
       "    .dataframe thead th {\n",
       "        text-align: right;\n",
       "    }\n",
       "</style>\n",
       "<table border=\"1\" class=\"dataframe\">\n",
       "  <thead>\n",
       "    <tr style=\"text-align: right;\">\n",
       "      <th></th>\n",
       "      <th>time</th>\n",
       "      <th>completed</th>\n",
       "      <th>volume</th>\n",
       "      <th>o</th>\n",
       "      <th>h</th>\n",
       "      <th>l</th>\n",
       "      <th>c</th>\n",
       "    </tr>\n",
       "  </thead>\n",
       "  <tbody>\n",
       "    <tr>\n",
       "      <td>0</td>\n",
       "      <td>2019-11-05T10:15:00.000000000Z</td>\n",
       "      <td>True</td>\n",
       "      <td>88</td>\n",
       "      <td>1.11309</td>\n",
       "      <td>1.11309</td>\n",
       "      <td>1.11262</td>\n",
       "      <td>1.11292</td>\n",
       "    </tr>\n",
       "    <tr>\n",
       "      <td>1</td>\n",
       "      <td>2019-11-05T10:20:00.000000000Z</td>\n",
       "      <td>True</td>\n",
       "      <td>64</td>\n",
       "      <td>1.11290</td>\n",
       "      <td>1.11301</td>\n",
       "      <td>1.11263</td>\n",
       "      <td>1.11263</td>\n",
       "    </tr>\n",
       "    <tr>\n",
       "      <td>2</td>\n",
       "      <td>2019-11-05T10:25:00.000000000Z</td>\n",
       "      <td>True</td>\n",
       "      <td>67</td>\n",
       "      <td>1.11266</td>\n",
       "      <td>1.11288</td>\n",
       "      <td>1.11264</td>\n",
       "      <td>1.11282</td>\n",
       "    </tr>\n",
       "    <tr>\n",
       "      <td>3</td>\n",
       "      <td>2019-11-05T10:30:00.000000000Z</td>\n",
       "      <td>True</td>\n",
       "      <td>41</td>\n",
       "      <td>1.11279</td>\n",
       "      <td>1.11288</td>\n",
       "      <td>1.11276</td>\n",
       "      <td>1.11284</td>\n",
       "    </tr>\n",
       "    <tr>\n",
       "      <td>4</td>\n",
       "      <td>2019-11-05T10:35:00.000000000Z</td>\n",
       "      <td>True</td>\n",
       "      <td>54</td>\n",
       "      <td>1.11286</td>\n",
       "      <td>1.11312</td>\n",
       "      <td>1.11279</td>\n",
       "      <td>1.11308</td>\n",
       "    </tr>\n",
       "  </tbody>\n",
       "</table>\n",
       "</div>"
      ],
      "text/plain": [
       "                             time  completed  volume        o        h  \\\n",
       "0  2019-11-05T10:15:00.000000000Z       True      88  1.11309  1.11309   \n",
       "1  2019-11-05T10:20:00.000000000Z       True      64  1.11290  1.11301   \n",
       "2  2019-11-05T10:25:00.000000000Z       True      67  1.11266  1.11288   \n",
       "3  2019-11-05T10:30:00.000000000Z       True      41  1.11279  1.11288   \n",
       "4  2019-11-05T10:35:00.000000000Z       True      54  1.11286  1.11312   \n",
       "\n",
       "         l        c  \n",
       "0  1.11262  1.11292  \n",
       "1  1.11263  1.11263  \n",
       "2  1.11264  1.11282  \n",
       "3  1.11276  1.11284  \n",
       "4  1.11279  1.11308  "
      ]
     },
     "execution_count": 3,
     "metadata": {},
     "output_type": "execute_result"
    }
   ],
   "source": [
    "data.head()"
   ]
  },
  {
   "cell_type": "markdown",
   "metadata": {},
   "source": [
    "Construct the train and targets matrices by\n",
    "- Framing the data into **predict window** and **prediction window** and then keep sliding over the data\n",
    "- Construct features for each window in a way to overcome the **dimension hopping** problem\n",
    "- **Dimensionality reduction** into the most meaningful features, hence deacreasing the data points requirements\n",
    "\n",
    "![Window chart example](pics\\window.png)\n",
    "[data_construct](.\\forex\\processing\\utils.py)"
   ]
  },
  {
   "cell_type": "code",
   "execution_count": 18,
   "metadata": {},
   "outputs": [
    {
     "name": "stdout",
     "output_type": "stream",
     "text": [
      "Shape of features matrix: 953 examples and 62 features\n",
      "Shape of targets matrix: 953 examples and 1 target\n"
     ]
    }
   ],
   "source": [
    "# construct supervised learning data\n",
    "output = data_construct(DataFrame=data, lookUp=10, predictionWindow=5, pairName='EUR/USD')\n",
    "f_map = output['mappingDict']\n",
    "raw_inputs = output['rawInputs']\n",
    "x = output['inputFeatures']\n",
    "y = output['targets']\n",
    "\n",
    "print('Shape of features matrix: {} examples and {} features'.format(x.shape[0], x.shape[1]))\n",
    "print('Shape of targets matrix: {} examples and {} target'.format(y.shape[0], y.shape[1]))"
   ]
  },
  {
   "cell_type": "markdown",
   "metadata": {},
   "source": [
    "Construct the four competing datasets for training aand evaluation\n",
    "- dataset one: sma features\n",
    "- dataset two: ema features\n",
    "- dataset three: band features\n",
    "- dataset four: macd features"
   ]
  },
  {
   "cell_type": "code",
   "execution_count": 19,
   "metadata": {},
   "outputs": [
    {
     "name": "stdout",
     "output_type": "stream",
     "text": [
      "Shape of x_sma matrix: 953 examples and 4 features\n",
      "Shape of x_ema matrix: 953 examples and 4 features\n",
      "Shape of x_band matrix: 953 examples and 6 features\n",
      "Shape of x_macd matrix: 953 examples and 4 features\n"
     ]
    }
   ],
   "source": [
    "# construct sma features\n",
    "x_sma = x[:, [f_map['sma_latest_crossover'],\n",
    "              f_map['sma_location_of_latest_crossover'],\n",
    "              f_map['sma_latest_crossover_angle'],\n",
    "              f_map['sma_dominant_type_fast_slow']]]\n",
    "print('Shape of x_sma matrix: {} examples and {} features'.format(x_sma.shape[0], x_sma.shape[1]))\n",
    "\n",
    "# construct ema features\n",
    "x_ema = x[:, [f_map['ema_latest_crossover'],\n",
    "              f_map['ema_location_of_latest_crossover'],\n",
    "              f_map['ema_latest_crossover_angle'],\n",
    "              f_map['ema_dominant_type_fast_slow']]]\n",
    "print('Shape of x_ema matrix: {} examples and {} features'.format(x_ema.shape[0], x_ema.shape[1]))\n",
    "\n",
    "# construct band features\n",
    "x_band = x[:, [f_map['deltaBands_mean'],\n",
    "               f_map['deltaBands_std'],\n",
    "               f_map['deltaBands_maximum_mean'],\n",
    "               f_map['deltaBands_maximum_location'],\n",
    "               f_map['deltaBands_minimum_mean'],\n",
    "               f_map['deltaBands_minimum_location']]]\n",
    "print('Shape of x_band matrix: {} examples and {} features'.format(x_band.shape[0], x_band.shape[1]))\n",
    "\n",
    "# construct macd features\n",
    "x_macd = x[:, [f_map['macd_latest_crossover'],\n",
    "               f_map['macd_location_of_latest_crossover'],\n",
    "               f_map['macd_latest_crossover_angle'],\n",
    "               f_map['macd_dominant_type_fast_slow']]]\n",
    "print('Shape of x_macd matrix: {} examples and {} features'.format(x_macd.shape[0], x_macd.shape[1]))"
   ]
  },
  {
   "cell_type": "code",
   "execution_count": null,
   "metadata": {},
   "outputs": [],
   "source": []
  }
 ],
 "metadata": {
  "kernelspec": {
   "display_name": "Python 3",
   "language": "python",
   "name": "python3"
  },
  "language_info": {
   "codemirror_mode": {
    "name": "ipython",
    "version": 3
   },
   "file_extension": ".py",
   "mimetype": "text/x-python",
   "name": "python",
   "nbconvert_exporter": "python",
   "pygments_lexer": "ipython3",
   "version": "3.7.4"
  }
 },
 "nbformat": 4,
 "nbformat_minor": 2
}

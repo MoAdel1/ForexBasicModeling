{
 "cells": [
  {
   "cell_type": "markdown",
   "metadata": {},
   "source": [
    "## Problem description\n",
    "Forex is the market for trading currency pairs, it is similar to the stock market, but only for a currency pair. In order to trade in the market a chart which contains the historic price and a set of technical indicators (features) is used by the trader to predict the future price. The type of the technical indicators used and the length of the inspection window is up to the trader himself and based on his previous experience. **The end goal is to build a machine learning model to predict the market movements.**\n",
    "![Forex Chart example](chart_example.png)\n",
    "\n",
    "## Target of this project \n",
    "- benchmark performance of **optimal** neural nets using Autodesigner.\n",
    "- test and compare performance for different sets of features (technical indicators) and time-windows.\n",
    "- come up with a proposal for the time window and set of features to be used in next stage of modeling."
   ]
  },
  {
   "cell_type": "code",
   "execution_count": 1,
   "metadata": {},
   "outputs": [],
   "source": [
    "# code imports\n",
    "import pandas as pd\n",
    "from forex.data.utils import fetch_data\n",
    "from matplotlib import pyplot as plt # (%matplotlib notebook) in case interactive graphs are needed "
   ]
  },
  {
   "cell_type": "markdown",
   "metadata": {},
   "source": [
    "Load the data for EUR/USD pair with the following configurations:\n",
    "- granularity = 5 minutes\n",
    "- count = 1000 candles\n",
    "\n",
    "[fetch_data](.\\forex\\data\\utils.py)"
   ]
  },
  {
   "cell_type": "code",
   "execution_count": 2,
   "metadata": {},
   "outputs": [],
   "source": [
    "data = fetch_data(granularity='M5', count=1000, instrument='EUR_USD', return_list=False)"
   ]
  },
  {
   "cell_type": "code",
   "execution_count": 3,
   "metadata": {},
   "outputs": [
    {
     "data": {
      "text/html": [
       "<div>\n",
       "<style scoped>\n",
       "    .dataframe tbody tr th:only-of-type {\n",
       "        vertical-align: middle;\n",
       "    }\n",
       "\n",
       "    .dataframe tbody tr th {\n",
       "        vertical-align: top;\n",
       "    }\n",
       "\n",
       "    .dataframe thead th {\n",
       "        text-align: right;\n",
       "    }\n",
       "</style>\n",
       "<table border=\"1\" class=\"dataframe\">\n",
       "  <thead>\n",
       "    <tr style=\"text-align: right;\">\n",
       "      <th></th>\n",
       "      <th>time</th>\n",
       "      <th>completed</th>\n",
       "      <th>volume</th>\n",
       "      <th>o</th>\n",
       "      <th>h</th>\n",
       "      <th>l</th>\n",
       "      <th>c</th>\n",
       "    </tr>\n",
       "  </thead>\n",
       "  <tbody>\n",
       "    <tr>\n",
       "      <td>0</td>\n",
       "      <td>2019-11-05T09:35:00.000000000Z</td>\n",
       "      <td>True</td>\n",
       "      <td>64</td>\n",
       "      <td>1.11306</td>\n",
       "      <td>1.11314</td>\n",
       "      <td>1.11289</td>\n",
       "      <td>1.11308</td>\n",
       "    </tr>\n",
       "    <tr>\n",
       "      <td>1</td>\n",
       "      <td>2019-11-05T09:40:00.000000000Z</td>\n",
       "      <td>True</td>\n",
       "      <td>73</td>\n",
       "      <td>1.11310</td>\n",
       "      <td>1.11310</td>\n",
       "      <td>1.11270</td>\n",
       "      <td>1.11278</td>\n",
       "    </tr>\n",
       "    <tr>\n",
       "      <td>2</td>\n",
       "      <td>2019-11-05T09:45:00.000000000Z</td>\n",
       "      <td>True</td>\n",
       "      <td>58</td>\n",
       "      <td>1.11276</td>\n",
       "      <td>1.11312</td>\n",
       "      <td>1.11274</td>\n",
       "      <td>1.11309</td>\n",
       "    </tr>\n",
       "    <tr>\n",
       "      <td>3</td>\n",
       "      <td>2019-11-05T09:50:00.000000000Z</td>\n",
       "      <td>True</td>\n",
       "      <td>63</td>\n",
       "      <td>1.11307</td>\n",
       "      <td>1.11313</td>\n",
       "      <td>1.11286</td>\n",
       "      <td>1.11308</td>\n",
       "    </tr>\n",
       "    <tr>\n",
       "      <td>4</td>\n",
       "      <td>2019-11-05T09:55:00.000000000Z</td>\n",
       "      <td>True</td>\n",
       "      <td>81</td>\n",
       "      <td>1.11304</td>\n",
       "      <td>1.11314</td>\n",
       "      <td>1.11292</td>\n",
       "      <td>1.11292</td>\n",
       "    </tr>\n",
       "  </tbody>\n",
       "</table>\n",
       "</div>"
      ],
      "text/plain": [
       "                             time  completed  volume        o        h  \\\n",
       "0  2019-11-05T09:35:00.000000000Z       True      64  1.11306  1.11314   \n",
       "1  2019-11-05T09:40:00.000000000Z       True      73  1.11310  1.11310   \n",
       "2  2019-11-05T09:45:00.000000000Z       True      58  1.11276  1.11312   \n",
       "3  2019-11-05T09:50:00.000000000Z       True      63  1.11307  1.11313   \n",
       "4  2019-11-05T09:55:00.000000000Z       True      81  1.11304  1.11314   \n",
       "\n",
       "         l        c  \n",
       "0  1.11289  1.11308  \n",
       "1  1.11270  1.11278  \n",
       "2  1.11274  1.11309  \n",
       "3  1.11286  1.11308  \n",
       "4  1.11292  1.11292  "
      ]
     },
     "execution_count": 3,
     "metadata": {},
     "output_type": "execute_result"
    }
   ],
   "source": [
    "data.head()"
   ]
  },
  {
   "cell_type": "code",
   "execution_count": null,
   "metadata": {},
   "outputs": [],
   "source": []
  },
  {
   "cell_type": "code",
   "execution_count": null,
   "metadata": {},
   "outputs": [],
   "source": []
  }
 ],
 "metadata": {
  "kernelspec": {
   "display_name": "Python 3",
   "language": "python",
   "name": "python3"
  },
  "language_info": {
   "codemirror_mode": {
    "name": "ipython",
    "version": 3
   },
   "file_extension": ".py",
   "mimetype": "text/x-python",
   "name": "python",
   "nbconvert_exporter": "python",
   "pygments_lexer": "ipython3",
   "version": "3.7.4"
  }
 },
 "nbformat": 4,
 "nbformat_minor": 2
}

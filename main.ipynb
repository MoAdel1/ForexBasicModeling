{
 "cells": [
  {
   "cell_type": "markdown",
   "metadata": {},
   "source": [
    "## Problem description\n",
    "Forex is the market for trading currency pairs, it is similar to the stock market, but only for a currency pair. In order to trade in the market a chart which contains the historic price and a set of technical indicators (features) is used by the trader to predict the future price. The type of the technical indicators used and the length of the inspection window is up to the trader himself and based on his previous experience. **The end goal is to build a machine learning model to predict the market movements.**\n",
    "![Forex Chart example](chart_example.png)\n",
    "\n",
    "## Target of this project \n",
    "- benchmark performance of **optimal** neural nets using Autodesigner.\n",
    "- test and compare performance for different sets of features (technical indicators) and time-windows.\n",
    "- come up with a proposal for the time window and set of features to be used in next stage of modeling."
   ]
  },
  {
   "cell_type": "code",
   "execution_count": 1,
   "metadata": {},
   "outputs": [],
   "source": [
    "# code imports\n",
    "from matplotlib import pyplot as plt\n",
    "%matplotlib notebook"
   ]
  },
  {
   "cell_type": "code",
   "execution_count": null,
   "metadata": {},
   "outputs": [],
   "source": []
  }
 ],
 "metadata": {
  "kernelspec": {
   "display_name": "Python 3",
   "language": "python",
   "name": "python3"
  },
  "language_info": {
   "codemirror_mode": {
    "name": "ipython",
    "version": 3
   },
   "file_extension": ".py",
   "mimetype": "text/x-python",
   "name": "python",
   "nbconvert_exporter": "python",
   "pygments_lexer": "ipython3",
   "version": "3.7.4"
  }
 },
 "nbformat": 4,
 "nbformat_minor": 2
}

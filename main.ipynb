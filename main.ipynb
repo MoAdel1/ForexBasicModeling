{
 "cells": [
  {
   "cell_type": "markdown",
   "metadata": {},
   "source": [
    "## Problem description\n",
    "Forex is the market for trading currency pairs, it is similar to the stock market, but only for a currency pair. In order to trade in the market a chart which contains the historic price and a set of technical indicators (features) is used by the trader to predict the future price. The type of the technical indicators used and the length of the inspection window is up to the trader himself and based on his previous experience. **The end goal is to build a machine learning model to predict the market movements.**\n",
    "![Forex Chart example](pics\\chart_example.png)\n",
    "\n",
    "## Target of this project \n",
    "- benchmark performance of **optimal** neural nets using Autodesigner\n",
    "- test and compare performance for different sets of features (technical indicators) and time-windows\n",
    "- come up with a proposal for the set of features to be used in next stage of modeling\n",
    "- have a baseline performance which is the minimum acceptance criteria moving forward"
   ]
  },
  {
   "cell_type": "code",
   "execution_count": 1,
   "metadata": {},
   "outputs": [
    {
     "name": "stderr",
     "output_type": "stream",
     "text": [
      "Using TensorFlow backend.\n"
     ]
    }
   ],
   "source": [
    "# code imports\n",
    "import warnings\n",
    "import numpy as np\n",
    "import pandas as pd\n",
    "from matplotlib import pyplot as plt\n",
    "from auto_design.utils import design\n",
    "from forex.data.utils import fetch_data\n",
    "from forex.processing.utils import data_construct"
   ]
  },
  {
   "cell_type": "markdown",
   "metadata": {},
   "source": [
    "Load the data for EUR/USD pair with the following configurations:\n",
    "- granularity = 5 minutes\n",
    "- count = 1000 candles\n",
    "\n",
    "[fetch_data](.\\forex\\data\\utils.py)"
   ]
  },
  {
   "cell_type": "code",
   "execution_count": 2,
   "metadata": {},
   "outputs": [],
   "source": [
    "data = fetch_data(granularity='M5', count=1000, instrument='EUR_USD', return_list=False)"
   ]
  },
  {
   "cell_type": "code",
   "execution_count": 3,
   "metadata": {},
   "outputs": [
    {
     "data": {
      "text/html": [
       "<div>\n",
       "<style scoped>\n",
       "    .dataframe tbody tr th:only-of-type {\n",
       "        vertical-align: middle;\n",
       "    }\n",
       "\n",
       "    .dataframe tbody tr th {\n",
       "        vertical-align: top;\n",
       "    }\n",
       "\n",
       "    .dataframe thead th {\n",
       "        text-align: right;\n",
       "    }\n",
       "</style>\n",
       "<table border=\"1\" class=\"dataframe\">\n",
       "  <thead>\n",
       "    <tr style=\"text-align: right;\">\n",
       "      <th></th>\n",
       "      <th>time</th>\n",
       "      <th>completed</th>\n",
       "      <th>volume</th>\n",
       "      <th>o</th>\n",
       "      <th>h</th>\n",
       "      <th>l</th>\n",
       "      <th>c</th>\n",
       "    </tr>\n",
       "  </thead>\n",
       "  <tbody>\n",
       "    <tr>\n",
       "      <td>0</td>\n",
       "      <td>2019-11-05T13:15:00.000000000Z</td>\n",
       "      <td>True</td>\n",
       "      <td>72</td>\n",
       "      <td>1.11090</td>\n",
       "      <td>1.11102</td>\n",
       "      <td>1.11066</td>\n",
       "      <td>1.11071</td>\n",
       "    </tr>\n",
       "    <tr>\n",
       "      <td>1</td>\n",
       "      <td>2019-11-05T13:20:00.000000000Z</td>\n",
       "      <td>True</td>\n",
       "      <td>149</td>\n",
       "      <td>1.11069</td>\n",
       "      <td>1.11069</td>\n",
       "      <td>1.11002</td>\n",
       "      <td>1.11030</td>\n",
       "    </tr>\n",
       "    <tr>\n",
       "      <td>2</td>\n",
       "      <td>2019-11-05T13:25:00.000000000Z</td>\n",
       "      <td>True</td>\n",
       "      <td>91</td>\n",
       "      <td>1.11028</td>\n",
       "      <td>1.11051</td>\n",
       "      <td>1.11021</td>\n",
       "      <td>1.11049</td>\n",
       "    </tr>\n",
       "    <tr>\n",
       "      <td>3</td>\n",
       "      <td>2019-11-05T13:30:00.000000000Z</td>\n",
       "      <td>True</td>\n",
       "      <td>74</td>\n",
       "      <td>1.11046</td>\n",
       "      <td>1.11050</td>\n",
       "      <td>1.11022</td>\n",
       "      <td>1.11026</td>\n",
       "    </tr>\n",
       "    <tr>\n",
       "      <td>4</td>\n",
       "      <td>2019-11-05T13:35:00.000000000Z</td>\n",
       "      <td>True</td>\n",
       "      <td>110</td>\n",
       "      <td>1.11024</td>\n",
       "      <td>1.11024</td>\n",
       "      <td>1.10958</td>\n",
       "      <td>1.10960</td>\n",
       "    </tr>\n",
       "  </tbody>\n",
       "</table>\n",
       "</div>"
      ],
      "text/plain": [
       "                             time  completed  volume        o        h  \\\n",
       "0  2019-11-05T13:15:00.000000000Z       True      72  1.11090  1.11102   \n",
       "1  2019-11-05T13:20:00.000000000Z       True     149  1.11069  1.11069   \n",
       "2  2019-11-05T13:25:00.000000000Z       True      91  1.11028  1.11051   \n",
       "3  2019-11-05T13:30:00.000000000Z       True      74  1.11046  1.11050   \n",
       "4  2019-11-05T13:35:00.000000000Z       True     110  1.11024  1.11024   \n",
       "\n",
       "         l        c  \n",
       "0  1.11066  1.11071  \n",
       "1  1.11002  1.11030  \n",
       "2  1.11021  1.11049  \n",
       "3  1.11022  1.11026  \n",
       "4  1.10958  1.10960  "
      ]
     },
     "execution_count": 3,
     "metadata": {},
     "output_type": "execute_result"
    }
   ],
   "source": [
    "data.head()"
   ]
  },
  {
   "cell_type": "markdown",
   "metadata": {},
   "source": [
    "Construct the train and targets matrices by\n",
    "- Framing the data into **predict window** and **prediction window** and then keep sliding over the data\n",
    "- Construct features for each window in a way to overcome the **dimension hopping** problem\n",
    "- **Dimensionality reduction** into the most meaningful features, hence deacreasing the data points requirements\n",
    "\n",
    "![Window chart example](pics\\window.png)\n",
    "[data_construct](.\\forex\\processing\\utils.py)"
   ]
  },
  {
   "cell_type": "code",
   "execution_count": 4,
   "metadata": {},
   "outputs": [
    {
     "name": "stdout",
     "output_type": "stream",
     "text": [
      "Shape of features matrix: 953 examples and 62 features\n",
      "Shape of targets matrix: 953 examples and 1 target\n"
     ]
    }
   ],
   "source": [
    "# construct supervised learning data\n",
    "output = data_construct(DataFrame=data, lookUp=10, predictionWindow=5, pairName='EUR/USD')\n",
    "f_map = output['mappingDict']\n",
    "raw_inputs = output['rawInputs']\n",
    "x = output['inputFeatures']\n",
    "y = output['targets']\n",
    "\n",
    "print('Shape of features matrix: {} examples and {} features'.format(x.shape[0], x.shape[1]))\n",
    "print('Shape of targets matrix: {} examples and {} target'.format(y.shape[0], y.shape[1]))"
   ]
  },
  {
   "cell_type": "markdown",
   "metadata": {},
   "source": [
    "Construct the four competing datasets for training aand evaluation\n",
    "- dataset one: sma features\n",
    "- dataset two: ema features\n",
    "- dataset three: band features\n",
    "- dataset four: macd features"
   ]
  },
  {
   "cell_type": "code",
   "execution_count": 5,
   "metadata": {},
   "outputs": [
    {
     "name": "stdout",
     "output_type": "stream",
     "text": [
      "Shape of x_sma matrix: 953 examples and 4 features\n",
      "Shape of x_ema matrix: 953 examples and 4 features\n",
      "Shape of x_band matrix: 953 examples and 6 features\n",
      "Shape of x_macd matrix: 953 examples and 4 features\n"
     ]
    }
   ],
   "source": [
    "# construct sma features\n",
    "x_sma = x[:, [f_map['sma_latest_crossover'],\n",
    "              f_map['sma_location_of_latest_crossover'],\n",
    "              f_map['sma_latest_crossover_angle'],\n",
    "              f_map['sma_dominant_type_fast_slow']]]\n",
    "print('Shape of x_sma matrix: {} examples and {} features'.format(x_sma.shape[0], x_sma.shape[1]))\n",
    "\n",
    "# construct ema features\n",
    "x_ema = x[:, [f_map['ema_latest_crossover'],\n",
    "              f_map['ema_location_of_latest_crossover'],\n",
    "              f_map['ema_latest_crossover_angle'],\n",
    "              f_map['ema_dominant_type_fast_slow']]]\n",
    "print('Shape of x_ema matrix: {} examples and {} features'.format(x_ema.shape[0], x_ema.shape[1]))\n",
    "\n",
    "# construct band features\n",
    "x_band = x[:, [f_map['deltaBands_mean'],\n",
    "               f_map['deltaBands_std'],\n",
    "               f_map['deltaBands_maximum_mean'],\n",
    "               f_map['deltaBands_maximum_location'],\n",
    "               f_map['deltaBands_minimum_mean'],\n",
    "               f_map['deltaBands_minimum_location']]]\n",
    "print('Shape of x_band matrix: {} examples and {} features'.format(x_band.shape[0], x_band.shape[1]))\n",
    "\n",
    "# construct macd features\n",
    "x_macd = x[:, [f_map['macd_latest_crossover'],\n",
    "               f_map['macd_location_of_latest_crossover'],\n",
    "               f_map['macd_latest_crossover_angle'],\n",
    "               f_map['macd_dominant_type_fast_slow']]]\n",
    "print('Shape of x_macd matrix: {} examples and {} features'.format(x_macd.shape[0], x_macd.shape[1]))"
   ]
  },
  {
   "cell_type": "markdown",
   "metadata": {},
   "source": [
    "Design and train the optimal ML pipeline for each features subset and compare performance\n",
    "- [design (entry point)](.\\auto_design\\utils.py)\n",
    "- [process (data pre processing)](.\\auto_design\\pre_processing\\process.py)\n",
    "- [feature eng. (encoder)](.\\auto_design\\feature_engineering\\encoder.py)\n",
    "- [modeling (constructing ML model)](.\\auto_design\\modeling\\neural_nets.py)\n",
    "- [optimizer (genetic algos)](.\\auto_design\\optimizer\\genetic.py)\n",
    "\n",
    "![flowchart](pics\\auto_desing_flow.png)"
   ]
  },
  {
   "cell_type": "code",
   "execution_count": 6,
   "metadata": {},
   "outputs": [],
   "source": [
    "# specify problem type\n",
    "problem_type = 'regression'\n",
    "# specify the size of population and number of generations\n",
    "size_population = 5\n",
    "number_generations = 3\n",
    "\n",
    "warnings.filterwarnings('ignore')"
   ]
  },
  {
   "cell_type": "code",
   "execution_count": 12,
   "metadata": {},
   "outputs": [
    {
     "name": "stdout",
     "output_type": "stream",
     "text": [
      "95/95 [==============================] - 0s 59us/step\n",
      "95/95 [==============================] - 0s 89us/step\n",
      "95/95 [==============================] - 0s 156us/step\n",
      "95/95 [==============================] - 0s 66us/step\n",
      "95/95 [==============================] - 0s 102us/step\n",
      "gen\tnevals\tavg    \tmin    \tmax    \n",
      "0  \t5     \t7.29768\t7.24687\t7.42959\n",
      "95/95 [==============================] - 0s 110us/step\n",
      "95/95 [==============================] - 0s 202us/step\n",
      "1  \t2     \t7.25611\t7.24687\t7.26344\n",
      "95/95 [==============================] - 0s 77us/step\n",
      "95/95 [==============================] - 0s 145us/step\n",
      "2  \t2     \t7.24009\t7.19514\t7.25653\n",
      "95/95 [==============================] - 0s 140us/step\n",
      "3  \t1     \t7.23881\t7.19514\t7.25505\n"
     ]
    }
   ],
   "source": [
    "# sma features\n",
    "model_sma, log_sma = design(x_sma, y, problem_type, size_population, number_generations)\n",
    "sma_error = min([i['min'] for i in log_sma])"
   ]
  },
  {
   "cell_type": "code",
   "execution_count": 8,
   "metadata": {},
   "outputs": [
    {
     "name": "stdout",
     "output_type": "stream",
     "text": [
      "95/95 [==============================] - 0s 48us/step\n",
      "95/95 [==============================] - 0s 36us/step\n",
      "95/95 [==============================] - 0s 48us/step\n",
      "95/95 [==============================] - 0s 56us/step\n",
      "95/95 [==============================] - 0s 49us/step\n",
      "gen\tnevals\tavg    \tmin    \tmax  \n",
      "0  \t5     \t7.44708\t7.38632\t7.577\n",
      "95/95 [==============================] - 0s 49us/step\n",
      "95/95 [==============================] - 0s 48us/step\n",
      "1  \t2     \t7.39368\t7.38632\t7.41931\n",
      "95/95 [==============================] - 0s 48us/step\n",
      "95/95 [==============================] - 0s 52us/step\n",
      "95/95 [==============================] - 0s 55us/step\n",
      "95/95 [==============================] - 0s 57us/step\n",
      "2  \t4     \t7.40119\t7.38192\t7.43056\n",
      "3  \t0     \t7.38368\t7.38192\t7.38632\n"
     ]
    }
   ],
   "source": [
    "# ema features\n",
    "model_ema, log_ema = design(x_ema, y, problem_type, size_population, number_generations)\n",
    "ema_error = min([i['min'] for i in log_ema])"
   ]
  },
  {
   "cell_type": "code",
   "execution_count": 9,
   "metadata": {},
   "outputs": [
    {
     "name": "stdout",
     "output_type": "stream",
     "text": [
      "95/95 [==============================] - 0s 54us/step\n",
      "95/95 [==============================] - 0s 97us/step\n",
      "95/95 [==============================] - 0s 88us/step\n",
      "95/95 [==============================] - 0s 98us/step\n",
      "95/95 [==============================] - 0s 71us/step\n",
      "gen\tnevals\tavg    \tmin    \tmax    \n",
      "0  \t5     \t7.52891\t7.27826\t7.63994\n",
      "95/95 [==============================] - 0s 81us/step\n",
      "1  \t1     \t7.39853\t7.27826\t7.54934\n",
      "2  \t0     \t7.27826\t7.27826\t7.27826\n",
      "95/95 [==============================] - 0s 58us/step\n",
      "95/95 [==============================] - 0s 45us/step\n",
      "95/95 [==============================] - 0s 119us/step\n",
      "95/95 [==============================] - 0s 93us/step\n",
      "95/95 [==============================] - 0s 89us/step\n",
      "3  \t5     \t7.35525\t7.25113\t7.68918\n"
     ]
    }
   ],
   "source": [
    "# band features\n",
    "model_band, log_band = design(x_band, y, problem_type, size_population, number_generations)\n",
    "band_error = min([i['min'] for i in log_band])"
   ]
  },
  {
   "cell_type": "code",
   "execution_count": 10,
   "metadata": {},
   "outputs": [
    {
     "name": "stdout",
     "output_type": "stream",
     "text": [
      "95/95 [==============================] - 0s 58us/step\n",
      "95/95 [==============================] - 0s 60us/step\n",
      "95/95 [==============================] - 0s 250us/step\n",
      "95/95 [==============================] - 0s 63us/step\n",
      "95/95 [==============================] - 0s 60us/step\n",
      "gen\tnevals\tavg   \tmin    \tmax    \n",
      "0  \t5     \t7.8668\t7.79578\t8.02832\n",
      "95/95 [==============================] - 0s 92us/step\n",
      "95/95 [==============================] - 0s 75us/step\n",
      "95/95 [==============================] - 0s 101us/step\n",
      "95/95 [==============================] - 0s 63us/step\n",
      "1  \t4     \t7.79847\t7.79578\t7.80155\n",
      "95/95 [==============================] - 0s 85us/step\n",
      "95/95 [==============================] - 0s 124us/step\n",
      "95/95 [==============================] - 0s 90us/step\n",
      "2  \t3     \t7.78809\t7.69846\t7.84644\n",
      "95/95 [==============================] - 0s 107us/step\n",
      "95/95 [==============================] - 0s 153us/step\n",
      "95/95 [==============================] - 0s 94us/step\n",
      "95/95 [==============================] - 0s 68us/step\n",
      "3  \t4     \t7.91771\t7.79897\t8.18316\n"
     ]
    }
   ],
   "source": [
    "# construct macd features\n",
    "model_macd, log_macd = design(x_macd, y, problem_type, size_population, number_generations)\n",
    "macd_error = min([i['min'] for i in log_macd])"
   ]
  },
  {
   "cell_type": "code",
   "execution_count": 13,
   "metadata": {},
   "outputs": [
    {
     "data": {
      "image/png": "[encoded data removed]",
      "text/plain": [
       "<Figure size 432x288 with 1 Axes>"
      ]
     },
     "metadata": {
      "needs_background": "light"
     },
     "output_type": "display_data"
    }
   ],
   "source": [
    "# visualize the results of the experiment\n",
    "objects = ('sma', 'ema', 'band', 'macd')\n",
    "y_pos = np.arange(len(objects))\n",
    "performance = [sma_error, ema_error, band_error, macd_error]\n",
    "plt.bar(y_pos, performance, align='center', alpha=0.5)\n",
    "plt.xticks(y_pos, objects)\n",
    "plt.ylabel('Error')\n",
    "plt.title('Performance for optimal model using different sets')\n",
    "\n",
    "plt.show()"
   ]
  },
  {
   "cell_type": "markdown",
   "metadata": {},
   "source": [
    "Note:\n",
    "The sample size, popuation size and number of generation are scalled down for the presentation"
   ]
  }
 ],
 "metadata": {
  "kernelspec": {
   "display_name": "Python 3",
   "language": "python",
   "name": "python3"
  },
  "language_info": {
   "codemirror_mode": {
    "name": "ipython",
    "version": 3
   },
   "file_extension": ".py",
   "mimetype": "text/x-python",
   "name": "python",
   "nbconvert_exporter": "python",
   "pygments_lexer": "ipython3",
   "version": "3.7.4"
  }
 },
 "nbformat": 4,
 "nbformat_minor": 2
}
